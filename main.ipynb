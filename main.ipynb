{
 "cells": [
  {
   "cell_type": "code",
   "execution_count": null,
   "metadata": {},
   "outputs": [],
   "source": [
    "import matplotlib.pyplot as plt\n",
    "import netCDF4\n",
    "import imageio.v2 as imageio\n",
    "import shutil\n",
    "import os"
   ]
  },
  {
   "attachments": {},
   "cell_type": "markdown",
   "metadata": {},
   "source": [
    "Open a local NetCDF file or remote OPeNDAP URL"
   ]
  },
  {
   "cell_type": "code",
   "execution_count": null,
   "metadata": {},
   "outputs": [],
   "source": [
    "years = ['2018','2019']\n",
    "\n",
    "nc = {}\n",
    "for year in years:\n",
    "    nc[year] = netCDF4.Dataset('standardised-magnitude_europe_era5_daily_95th_'+year+'_v1.nc')"
   ]
  },
  {
   "attachments": {},
   "cell_type": "markdown",
   "metadata": {},
   "source": [
    "Sample every point of the 'nrr95p' variable"
   ]
  },
  {
   "cell_type": "code",
   "execution_count": null,
   "metadata": {},
   "outputs": [],
   "source": [
    "nrr95p = {}\n",
    "for year in years:\n",
    "    nrr95p[year] = nc[year].variables['nrr95p']"
   ]
  },
  {
   "attachments": {},
   "cell_type": "markdown",
   "metadata": {},
   "source": [
    "Create directories to store images and gifs"
   ]
  },
  {
   "cell_type": "code",
   "execution_count": null,
   "metadata": {},
   "outputs": [],
   "source": [
    "for year in years:\n",
    "    if not os.path.exists('nrr95p_'+year):\n",
    "        os.makedirs('nrr95p_'+year)\n",
    "    if not os.path.exists('nrr95p_'+year+'_gifs'):\n",
    "        os.makedirs('nrr95p_'+year+'_gifs')"
   ]
  },
  {
   "attachments": {},
   "cell_type": "markdown",
   "metadata": {},
   "source": [
    "Make images"
   ]
  },
  {
   "cell_type": "code",
   "execution_count": null,
   "metadata": {},
   "outputs": [],
   "source": [
    "plt.figure()\n",
    "for year in years:\n",
    "    for i in range(365):\n",
    "        plt.imshow(nrr95p[year][i])\n",
    "        plt.savefig('nrr95p_'+year+'/nrr95p_'+year+'_'+str(i)+'.png')\n",
    "        if (i % 50) == 0:\n",
    "            print('Printed image '+ i + ' year ' + year)\n",
    "    print('Finished year '+year)"
   ]
  },
  {
   "attachments": {},
   "cell_type": "markdown",
   "metadata": {},
   "source": [
    "Make gifs spanning over 10 days, each frame representing a day, from day 0 to day 364\n",
    "\n",
    "[  0   1 ...   8   9]\n",
    "\n",
    "[  1   2 ...   9  10]\n",
    "\n",
    "[  2   3 ...  10  11]\n",
    "\n",
    "         ...\n",
    "         \n",
    "[355 356 ... 363 364]"
   ]
  },
  {
   "cell_type": "code",
   "execution_count": null,
   "metadata": {},
   "outputs": [],
   "source": [
    "for year in years:\n",
    "    for i in range(356):\n",
    "        images = []\n",
    "        for j in range(10):\n",
    "            images.append(imageio.imread('nrr95p_'+year+'/nrr95p_'+year+'_'+str(i+j)+'.png'))\n",
    "        imageio.mimsave('nrr95p_'+year+'_gifs/nrr95p_'+year+'_'+str(i)+'_to_'+str(i+9)+'.gif', images)"
   ]
  },
  {
   "attachments": {},
   "cell_type": "markdown",
   "metadata": {},
   "source": [
    "Zip created directories"
   ]
  },
  {
   "cell_type": "code",
   "execution_count": null,
   "metadata": {},
   "outputs": [],
   "source": [
    "for year in years:\n",
    "    shutil.make_archive('nrr95p_'+year+'.zip', 'zip', 'nrr95p_'+year)\n",
    "    shutil.make_archive('nrr95p_'+year+'_gifs.zip', 'zip', 'nrr95p_'+year+'gifs')"
   ]
  }
 ],
 "metadata": {
  "kernelspec": {
   "display_name": "base",
   "language": "python",
   "name": "python3"
  },
  "language_info": {
   "codemirror_mode": {
    "name": "ipython",
    "version": 3
   },
   "file_extension": ".py",
   "mimetype": "text/x-python",
   "name": "python",
   "nbconvert_exporter": "python",
   "pygments_lexer": "ipython3",
   "version": "3.9.13"
  },
  "orig_nbformat": 4,
  "vscode": {
   "interpreter": {
    "hash": "2f70c2c6f75f001c2435d8036b6cc1833b789af896ffe22ab30918cedbc10c86"
   }
  }
 },
 "nbformat": 4,
 "nbformat_minor": 2
}
