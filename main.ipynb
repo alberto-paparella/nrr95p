{
 "cells": [
  {
   "attachments": {},
   "cell_type": "markdown",
   "metadata": {},
   "source": [
    "# nrr95p dataset extraction process\n",
    "\n",
    "This notebook is meant to extract the images and gifs relative to some specified years from NetCDF files.\n",
    "One should already have downloaded the desired NetCDF files and placed them under the same directory of this notebook."
   ]
  },
  {
   "attachments": {},
   "cell_type": "markdown",
   "metadata": {},
   "source": [
    "Import libraries."
   ]
  },
  {
   "cell_type": "code",
   "execution_count": null,
   "metadata": {},
   "outputs": [],
   "source": [
    "import netCDF4, os, shutil\n",
    "import matplotlib.pyplot as plt\n",
    "import imageio.v2 as imageio"
   ]
  },
  {
   "attachments": {},
   "cell_type": "markdown",
   "metadata": {},
   "source": [
    "Specify the years to extract."
   ]
  },
  {
   "cell_type": "code",
   "execution_count": null,
   "metadata": {},
   "outputs": [],
   "source": [
    "years = ['2018','2019']"
   ]
  },
  {
   "attachments": {},
   "cell_type": "markdown",
   "metadata": {},
   "source": [
    "For each specified year, open a local NetCDF file."
   ]
  },
  {
   "cell_type": "code",
   "execution_count": null,
   "metadata": {},
   "outputs": [],
   "source": [
    "nc = {}\n",
    "for year in years:\n",
    "    nc[year] = netCDF4.Dataset('standardised-magnitude_europe_era5_daily_95th_'+year+'_v1.nc')"
   ]
  },
  {
   "attachments": {},
   "cell_type": "markdown",
   "metadata": {},
   "source": [
    "For each opened file, sample every point of the 'nrr95p' variable."
   ]
  },
  {
   "cell_type": "code",
   "execution_count": null,
   "metadata": {},
   "outputs": [],
   "source": [
    "nrr95p = {}\n",
    "for year in years:\n",
    "    nrr95p[year] = nc[year].variables['nrr95p']"
   ]
  },
  {
   "attachments": {},
   "cell_type": "markdown",
   "metadata": {},
   "source": [
    "Create directories to store images and gifs."
   ]
  },
  {
   "cell_type": "code",
   "execution_count": null,
   "metadata": {},
   "outputs": [],
   "source": [
    "for year in years:\n",
    "    if not os.path.exists('nrr95p_'+year):\n",
    "        os.makedirs('nrr95p_'+year)\n",
    "    if not os.path.exists('nrr95p_'+year+'_gifs_a'):\n",
    "        os.makedirs('nrr95p_'+year+'_gifs_a')\n",
    "    if not os.path.exists('nrr95p_'+year+'_gifs_b'):\n",
    "        os.makedirs('nrr95p_'+year+'_gifs_b')"
   ]
  },
  {
   "attachments": {},
   "cell_type": "markdown",
   "metadata": {},
   "source": [
    "For each year, make images, one for each day, and store them in their respective directory."
   ]
  },
  {
   "cell_type": "code",
   "execution_count": null,
   "metadata": {},
   "outputs": [],
   "source": [
    "for year in years:\n",
    "    for i in range(365):\n",
    "        plt.imshow(nrr95p[year][i])\n",
    "        plt.savefig('nrr95p_'+year+'/nrr95p_'+year+'_'+str(i)+'.png')\n",
    "        if (i % 50) == 0:\n",
    "            print('Printed image '+ i + ' year ' + year)\n",
    "    print('Finished year '+year)"
   ]
  },
  {
   "attachments": {},
   "cell_type": "markdown",
   "metadata": {},
   "source": [
    "For each year, make gifs spanning over 10 days, each day represented by a frame, from day 0 to day 364.\n",
    "Each year is subdivided into 2 directories to ease sharing."
   ]
  },
  {
   "cell_type": "code",
   "execution_count": null,
   "metadata": {},
   "outputs": [],
   "source": [
    "for year in years:\n",
    "    for i in range(356):\n",
    "        images = []\n",
    "        for j in range(10):\n",
    "            images.append(imageio.imread('nrr95p_'+year+'/nrr95p_'+year+'_'+str(i+j)+'.png'))\n",
    "        if i < 200:\n",
    "            imageio.mimsave('nrr95p_'+year+'_gifs_a/nrr95p_'+year+'_'+str(i)+'_to_'+str(i+9)+'.gif', images)\n",
    "        else:\n",
    "            imageio.mimsave('nrr95p_'+year+'_gifs_b/nrr95p_'+year+'_'+str(i)+'_to_'+str(i+9)+'.gif', images)"
   ]
  },
  {
   "attachments": {},
   "cell_type": "markdown",
   "metadata": {},
   "source": [
    "Zip created directories."
   ]
  },
  {
   "cell_type": "code",
   "execution_count": null,
   "metadata": {},
   "outputs": [],
   "source": [
    "for year in years:\n",
    "    shutil.make_archive('nrr95p_'+year+'.zip', 'zip', 'nrr95p_'+year)\n",
    "    shutil.make_archive('nrr95p_'+year+'_gifs_a.zip', 'zip', 'nrr95p_'+year+'_gifs_a')\n",
    "    shutil.make_archive('nrr95p_'+year+'_gifs_b.zip', 'zip', 'nrr95p_'+year+'_gifs_b')"
   ]
  }
 ],
 "metadata": {
  "kernelspec": {
   "display_name": "base",
   "language": "python",
   "name": "python3"
  },
  "language_info": {
   "codemirror_mode": {
    "name": "ipython",
    "version": 3
   },
   "file_extension": ".py",
   "mimetype": "text/x-python",
   "name": "python",
   "nbconvert_exporter": "python",
   "pygments_lexer": "ipython3",
   "version": "3.9.13"
  },
  "orig_nbformat": 4,
  "vscode": {
   "interpreter": {
    "hash": "2f70c2c6f75f001c2435d8036b6cc1833b789af896ffe22ab30918cedbc10c86"
   }
  }
 },
 "nbformat": 4,
 "nbformat_minor": 2
}
