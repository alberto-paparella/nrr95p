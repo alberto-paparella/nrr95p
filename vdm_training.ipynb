{
 "cells": [
  {
   "attachments": {},
   "cell_type": "markdown",
   "metadata": {},
   "source": [
    "# Video Diffusion Model Training\n",
    "\n",
    "This notebook is meant to experiment with the extracted dataset aiming to train a video diffusion model able to predict, given the first few frames of a gif showing the nrr95p evolution across some days, the next frames in the gif (i.e., the possible evolution of data in the next few days)."
   ]
  },
  {
   "attachments": {},
   "cell_type": "markdown",
   "metadata": {},
   "source": [
    "In the first experiment, a video diffusion model is trained with 2018 data; then, the model is evaluated on 2019 data."
   ]
  },
  {
   "attachments": {},
   "cell_type": "markdown",
   "metadata": {},
   "source": [
    "Let's start by installing the [video_diffusion_pytorch](https://github.com/lucidrains/video-diffusion-pytorch) implementation of video diffusion models for pytorch developed by [Phil Wang](https://github.com/lucidrains)."
   ]
  },
  {
   "cell_type": "code",
   "execution_count": 2,
   "metadata": {},
   "outputs": [
    {
     "name": "stdout",
     "output_type": "stream",
     "text": [
      "Requirement already satisfied: video-diffusion-pytorch in /home/alberto/anaconda3/lib/python3.9/site-packages (0.6.0)\n",
      "Requirement already satisfied: einops>=0.4 in /home/alberto/anaconda3/lib/python3.9/site-packages (from video-diffusion-pytorch) (0.6.0)\n",
      "Requirement already satisfied: einops-exts in /home/alberto/anaconda3/lib/python3.9/site-packages (from video-diffusion-pytorch) (0.0.4)\n",
      "Requirement already satisfied: torchvision in /home/alberto/anaconda3/lib/python3.9/site-packages (from video-diffusion-pytorch) (0.14.1)\n",
      "Requirement already satisfied: tqdm in /home/alberto/anaconda3/lib/python3.9/site-packages (from video-diffusion-pytorch) (4.64.1)\n",
      "Requirement already satisfied: torch>=1.10 in /home/alberto/anaconda3/lib/python3.9/site-packages (from video-diffusion-pytorch) (1.13.1)\n",
      "Requirement already satisfied: rotary-embedding-torch in /home/alberto/anaconda3/lib/python3.9/site-packages (from video-diffusion-pytorch) (0.2.1)\n",
      "Requirement already satisfied: nvidia-cublas-cu11==11.10.3.66 in /home/alberto/anaconda3/lib/python3.9/site-packages (from torch>=1.10->video-diffusion-pytorch) (11.10.3.66)\n",
      "Requirement already satisfied: nvidia-cuda-nvrtc-cu11==11.7.99 in /home/alberto/anaconda3/lib/python3.9/site-packages (from torch>=1.10->video-diffusion-pytorch) (11.7.99)\n",
      "Requirement already satisfied: nvidia-cuda-runtime-cu11==11.7.99 in /home/alberto/anaconda3/lib/python3.9/site-packages (from torch>=1.10->video-diffusion-pytorch) (11.7.99)\n",
      "Requirement already satisfied: typing-extensions in /home/alberto/anaconda3/lib/python3.9/site-packages (from torch>=1.10->video-diffusion-pytorch) (4.3.0)\n",
      "Requirement already satisfied: nvidia-cudnn-cu11==8.5.0.96 in /home/alberto/anaconda3/lib/python3.9/site-packages (from torch>=1.10->video-diffusion-pytorch) (8.5.0.96)\n",
      "Requirement already satisfied: wheel in /home/alberto/anaconda3/lib/python3.9/site-packages (from nvidia-cublas-cu11==11.10.3.66->torch>=1.10->video-diffusion-pytorch) (0.37.1)\n",
      "Requirement already satisfied: setuptools in /home/alberto/anaconda3/lib/python3.9/site-packages (from nvidia-cublas-cu11==11.10.3.66->torch>=1.10->video-diffusion-pytorch) (63.4.1)\n",
      "Requirement already satisfied: numpy in /home/alberto/anaconda3/lib/python3.9/site-packages (from torchvision->video-diffusion-pytorch) (1.21.5)\n",
      "Requirement already satisfied: requests in /home/alberto/anaconda3/lib/python3.9/site-packages (from torchvision->video-diffusion-pytorch) (2.28.1)\n",
      "Requirement already satisfied: pillow!=8.3.*,>=5.3.0 in /home/alberto/anaconda3/lib/python3.9/site-packages (from torchvision->video-diffusion-pytorch) (9.2.0)\n",
      "Requirement already satisfied: certifi>=2017.4.17 in /home/alberto/anaconda3/lib/python3.9/site-packages (from requests->torchvision->video-diffusion-pytorch) (2022.9.14)\n",
      "Requirement already satisfied: idna<4,>=2.5 in /home/alberto/anaconda3/lib/python3.9/site-packages (from requests->torchvision->video-diffusion-pytorch) (3.3)\n",
      "Requirement already satisfied: urllib3<1.27,>=1.21.1 in /home/alberto/anaconda3/lib/python3.9/site-packages (from requests->torchvision->video-diffusion-pytorch) (1.26.11)\n",
      "Requirement already satisfied: charset-normalizer<3,>=2 in /home/alberto/anaconda3/lib/python3.9/site-packages (from requests->torchvision->video-diffusion-pytorch) (2.0.4)\n",
      "Note: you may need to restart the kernel to use updated packages.\n"
     ]
    }
   ],
   "source": [
    "%pip install video-diffusion-pytorch"
   ]
  }
 ],
 "metadata": {
  "kernelspec": {
   "display_name": "base",
   "language": "python",
   "name": "python3"
  },
  "language_info": {
   "codemirror_mode": {
    "name": "ipython",
    "version": 3
   },
   "file_extension": ".py",
   "mimetype": "text/x-python",
   "name": "python",
   "nbconvert_exporter": "python",
   "pygments_lexer": "ipython3",
   "version": "3.9.13"
  },
  "orig_nbformat": 4
 },
 "nbformat": 4,
 "nbformat_minor": 2
}
